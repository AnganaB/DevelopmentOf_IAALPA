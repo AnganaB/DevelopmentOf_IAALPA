{
 "cells": [
  {
   "cell_type": "code",
   "execution_count": 12,
   "metadata": {},
   "outputs": [],
   "source": [
    "import pandas as pd\n",
    "import numpy as np\n",
    "import networkx as nx\n",
    "import matplotlib.pyplot as plt\n",
    "from getAAI import s1,s2,s3,s4,s5,s6,s7,s8,s9,s10,s11,s12,s13,s14,s15,s16,s17,s18,s19,s20,s21,s22,s23,s24,s25\n",
    "from auc import getNetworkAUC, getBestAUC, getComplementaryAAI, functionList, getEdgelist"
   ]
  },
  {
   "cell_type": "code",
   "execution_count": 13,
   "metadata": {},
   "outputs": [],
   "source": [
    "def getCompositeIndex(pair,graph,best_idx,complm_idx,nw_auc):\n",
    "    \n",
    "    #get AUC of best index and complementary indices\n",
    "    all_idx = [best_idx] + [i for i in complm_idx]\n",
    "    auc_val = []\n",
    "\n",
    "    for i in all_idx:\n",
    "        auc_val.append(nw_auc[i-1])\n",
    "    \n",
    "    #index values for a node pair\n",
    "    fn_list = functionList()\n",
    "    aai_val = []\n",
    "\n",
    "    for idx in complm_idx:\n",
    "        aai_val.append(eval(fn_list[idx-1])(pair,graph))\n",
    "    \n",
    "    s = sum([a*b for a,b in zip(auc_val,aai_val)])\n",
    "    \n",
    "    return s\n",
    "    "
   ]
  },
  {
   "cell_type": "code",
   "execution_count": 14,
   "metadata": {},
   "outputs": [],
   "source": [
    "csv = \"Dataset/network_edgelist.csv\"\n",
    "\n",
    "#load the edgelist from the csv file \n",
    "n = pd.read_csv(csv)\n",
    "\n",
    "#create a networkx graph from the edgelist and display\n",
    "network = nx.from_pandas_edgelist(n, source=\"Source\", target=\"Target\", create_using=nx.DiGraph()).to_undirected()"
   ]
  },
  {
   "cell_type": "code",
   "execution_count": 21,
   "metadata": {},
   "outputs": [],
   "source": [
    "###################################################################\n",
    "#In the actual implementation\n",
    "#network_auc and best_idx will be the output of the decision tree\n",
    "#complm_idx will be the output of the SVM\n",
    "#This is just for demonstration\n",
    "###################################################################\n",
    "\n",
    "\n",
    "#computing the AUC of all the AAIs of the given network\n",
    "#computed by random sampling as mentioned in theory and hence the value changes everytime it is run\n",
    "\n",
    "network_auc = getNetworkAUC(csv)\n",
    "\n",
    "#get the best auc of the network\n",
    "# 1 indicates s1, 2 indicated s2 and so on\n",
    "#computed by random sampling as mentioned in theory and hence the value changes everytime it is run\n",
    "\n",
    "best_idx = getBestAUC(csv)\n",
    "\n",
    "#get the complementary AAIs for the network given best index is 11\n",
    "# 1 indicates s1, 2 indicated s2 and so on\n",
    "\n",
    "complm_idx = getComplementaryAAI(csv,best_idx)\n",
    "\n",
    "#get AUC of best index and complementary indices\n",
    "\n",
    "all_idx = [best_idx] + [i for i in complm_idx]\n",
    "auc_val = []\n",
    "\n",
    "for i in all_idx:\n",
    "    auc_val.append(network_auc[i-1])\n",
    "    \n",
    "#let us pick a random pair of nodes from the graph, say (4,10)\n",
    "e = (4,10)\n",
    "\n",
    "#composite index\n",
    "cmpst_idx = getCompositeIndex(e,network,best_idx,complm_idx,network_auc)"
   ]
  },
  {
   "cell_type": "code",
   "execution_count": 20,
   "metadata": {},
   "outputs": [
    {
     "data": {
      "text/plain": [
       "25.253968253968253"
      ]
     },
     "execution_count": 20,
     "metadata": {},
     "output_type": "execute_result"
    }
   ],
   "source": [
    "cmpst_idx"
   ]
  },
  {
   "cell_type": "code",
   "execution_count": null,
   "metadata": {},
   "outputs": [],
   "source": []
  }
 ],
 "metadata": {
  "kernelspec": {
   "display_name": "Python 3",
   "language": "python",
   "name": "python3"
  },
  "language_info": {
   "codemirror_mode": {
    "name": "ipython",
    "version": 3
   },
   "file_extension": ".py",
   "mimetype": "text/x-python",
   "name": "python",
   "nbconvert_exporter": "python",
   "pygments_lexer": "ipython3",
   "version": "3.7.4"
  }
 },
 "nbformat": 4,
 "nbformat_minor": 2
}
